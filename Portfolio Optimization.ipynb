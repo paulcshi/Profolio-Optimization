{
 "cells": [
  {
   "cell_type": "markdown",
   "metadata": {},
   "source": [
    "## MGMTMSA 403 Homework 2: Portfolio Optimization\n"
   ]
  },
  {
   "cell_type": "markdown",
   "metadata": {},
   "source": [
    "## Pre-processing step: Estimate expected returns and covariance"
   ]
  },
  {
   "cell_type": "code",
   "execution_count": 1,
   "metadata": {},
   "outputs": [],
   "source": [
    "# Import gurobi and numpy\n",
    "from gurobipy import *\n",
    "import numpy as np\n",
    "from numpy import genfromtxt\n",
    "import csv\n",
    "import pandas as pd\n",
    "\n",
    "## Get index of 4 tickers\n",
    "tick4 = [\"MSFT\",\"GS\",\"PG\",\"SCHP\"];\n",
    "\n",
    "# Get variable names\n",
    "with open('Prices.csv') as csvFile:\n",
    "    reader = csv.reader(csvFile)\n",
    "    tickers = next(reader) ## stores the tickers of all 390 stocks\n",
    "\n",
    "tickind =[];\n",
    "for t in tick4:\n",
    "    tickind.append(tickers.index(t)) ## retrieve index that corresponds to each ticker\n",
    "\n",
    "# Load data\n",
    "prices = genfromtxt('Prices.csv', delimiter=',',skip_header = 1)\n",
    "\n",
    "# get dimensions of data\n",
    "d = prices.shape[0]\n",
    "n = prices.shape[1]\n",
    "\n",
    "# calculate monthly returns of each stock\n",
    "returns = np.zeros((d-1,n))\n",
    "for stock in range(n):\n",
    "    for month in range(d-1):\n",
    "        returns[month,stock] = prices[month+1,stock]/prices[month,stock]-1\n",
    "        \n",
    "# Store average return (parameter r_i in portfolio optimization model)       \n",
    "avg_return = np.zeros(n)\n",
    "avg_return = np.mean(returns,axis=0)\n",
    "\n",
    "# Store covariance matrix (parameter C_ij in portfolio optimization model)\n",
    "C = np.zeros((n,n))\n",
    "C = np.cov(np.transpose(returns))\n"
   ]
  },
  {
   "cell_type": "code",
   "execution_count": 2,
   "metadata": {},
   "outputs": [
    {
     "data": {
      "text/plain": [
       "Index(['MMM', 'ABT', 'ABBV', 'ABMD', 'ACN', 'ATVI', 'ADBE', 'AMD', 'AAP',\n",
       "       'AES',\n",
       "       ...\n",
       "       'PWR', 'QCOM', 'DGX', 'RL', 'RJF', 'RTN', 'O', 'REG', 'SCHP', 'BND'],\n",
       "      dtype='object', length=390)"
      ]
     },
     "execution_count": 2,
     "metadata": {},
     "output_type": "execute_result"
    }
   ],
   "source": [
    "# making data frame and extracting stock tickers \n",
    "data = pd.read_csv(\"Prices.csv\") \n",
    "stock_ticker = data.columns\n",
    "stock_ticker"
   ]
  },
  {
   "cell_type": "markdown",
   "metadata": {},
   "source": [
    "## Question 1. Formulate and solve each of the three models in Python, and then answer the following questions. For each part, also include your Gurobi output."
   ]
  },
  {
   "cell_type": "markdown",
   "metadata": {},
   "source": [
    "#### **Model 1**  \n",
    "Start by focusing on a four-asset portfolio: Suppose you can only invest in Microsoft (MSFT), Goldman Sachs (GS), Proctor & Gamble (PG), and U.S. Treasury Bonds (SCHP). Con- struct a minimum-variance portfolio with an expected monthly return of at least 0.5%. Write down the optimal risk (i.e. the optimal objective function value), solver time, and the weight on each of the four stocks.**"
   ]
  },
  {
   "cell_type": "code",
   "execution_count": 3,
   "metadata": {
    "tags": []
   },
   "outputs": [
    {
     "name": "stdout",
     "output_type": "stream",
     "text": [
      "Set parameter Username\n",
      "Academic license - for non-commercial use only - expires 2022-03-09\n",
      "Gurobi Optimizer version 9.5.0 build v9.5.0rc5 (mac64[x86])\n",
      "Thread count: 2 physical cores, 4 logical processors, using up to 4 threads\n",
      "Optimize a model with 6 rows, 4 columns and 12 nonzeros\n",
      "Model fingerprint: 0x70c79b8a\n",
      "Model has 10 quadratic objective terms\n",
      "Coefficient statistics:\n",
      "  Matrix range     [2e-04, 1e+00]\n",
      "  Objective range  [0e+00, 0e+00]\n",
      "  QObjective range [5e-05, 7e-03]\n",
      "  Bounds range     [0e+00, 0e+00]\n",
      "  RHS range        [5e-03, 1e+00]\n",
      "Presolve removed 4 rows and 0 columns\n",
      "Presolve time: 0.02s\n",
      "Presolved: 2 rows, 4 columns, 8 nonzeros\n",
      "Presolved model has 10 quadratic objective terms\n",
      "Ordering time: 0.00s\n",
      "\n",
      "Barrier statistics:\n",
      " Free vars  : 3\n",
      " AA' NZ     : 1.000e+01\n",
      " Factor NZ  : 1.500e+01\n",
      " Factor Ops : 5.500e+01 (less than 1 second per iteration)\n",
      " Threads    : 1\n",
      "\n",
      "                  Objective                Residual\n",
      "Iter       Primal          Dual         Primal    Dual     Compl     Time\n",
      "   0   1.87864836e+05 -1.87864836e+05  3.50e+03 1.91e-07  1.00e+06     0s\n",
      "   1   5.03195868e+03 -5.16248579e+03  2.59e+02 1.41e-08  7.60e+04     0s\n",
      "   2   8.65509708e-03 -1.63980611e+02  5.37e-01 2.93e-11  1.91e+02     0s\n",
      "   3   9.86310203e-04 -1.11685777e+02  5.37e-07 2.95e-17  2.23e+01     0s\n",
      "   4   9.86278716e-04 -1.12363063e-01  8.01e-12 2.17e-19  2.27e-02     0s\n",
      "   5   9.62254421e-04 -7.39765491e-04  8.50e-14 8.67e-19  3.40e-04     0s\n",
      "   6   2.39090553e-04 -5.58090861e-04  4.16e-17 3.47e-18  1.59e-04     0s\n",
      "   7   1.89326156e-04  1.66699694e-04  1.04e-17 1.73e-18  4.53e-06     0s\n",
      "   8   1.77828223e-04  1.76221352e-04  1.73e-17 1.73e-18  3.21e-07     0s\n",
      "   9   1.77494541e-04  1.77442512e-04  2.11e-15 8.67e-19  1.04e-08     0s\n",
      "  10   1.77493265e-04  1.77493214e-04  3.39e-15 2.17e-19  1.03e-11     0s\n",
      "\n",
      "Barrier solved model in 10 iterations and 0.05 seconds (0.00 work units)\n",
      "Optimal objective 1.77493265e-04\n",
      "\n"
     ]
    }
   ],
   "source": [
    "#Initialize Model\n",
    "mod = Model() \n",
    "\n",
    "#Tick4 Average Return \n",
    "tick4_avg_return = avg_return[tickind]\n",
    "\n",
    "#Tick4 Covaraince Matrix \n",
    "tick4_covariance_matrix = C[tickind][:,tickind]\n",
    "\n",
    "#Define Data \n",
    "stocks = 4\n",
    "mim_return  = 0.005\n",
    "\n",
    "#Define decision variables\n",
    "weight = mod.addVars(stocks)\n",
    "\n",
    "#Define Constraints\n",
    "return_contraint = mod.addConstr(sum(weight[i]*tick4_avg_return[i] for i in range(stocks)) >= mim_return)\n",
    "\n",
    "Weights_add_up_to_1_contraint = mod.addConstr(sum(weight[i] for i in range(stocks)) == 1)\n",
    "\n",
    "for i in range(stocks):\n",
    "    Non_negativity_contraint = mod.addConstr(weight[i] >= 0)\n",
    "    \n",
    "#Create the objective function, and set it to be minimized.\n",
    "mod.setObjective(sum(weight[i] * weight[j] * tick4_covariance_matrix[i,j] for i in range(stocks) for j in range(stocks)), GRB.MINIMIZE)\n",
    "mod.update()\n",
    "mod.optimize()"
   ]
  },
  {
   "cell_type": "code",
   "execution_count": 4,
   "metadata": {},
   "outputs": [
    {
     "name": "stdout",
     "output_type": "stream",
     "text": [
      "The Optimal Minimum Risk is 0.01775%\n",
      "\n",
      "The Solver Time is 0.05010199546813965 seconds\n",
      "\n"
     ]
    },
    {
     "data": {
      "text/html": [
       "<div>\n",
       "<style scoped>\n",
       "    .dataframe tbody tr th:only-of-type {\n",
       "        vertical-align: middle;\n",
       "    }\n",
       "\n",
       "    .dataframe tbody tr th {\n",
       "        vertical-align: top;\n",
       "    }\n",
       "\n",
       "    .dataframe thead th {\n",
       "        text-align: right;\n",
       "    }\n",
       "</style>\n",
       "<table border=\"1\" class=\"dataframe\">\n",
       "  <thead>\n",
       "    <tr style=\"text-align: right;\">\n",
       "      <th></th>\n",
       "      <th>Profolio Weight in %</th>\n",
       "    </tr>\n",
       "  </thead>\n",
       "  <tbody>\n",
       "    <tr>\n",
       "      <th>MSFT</th>\n",
       "      <td>23.712</td>\n",
       "    </tr>\n",
       "    <tr>\n",
       "      <th>GS</th>\n",
       "      <td>2.586</td>\n",
       "    </tr>\n",
       "    <tr>\n",
       "      <th>PG</th>\n",
       "      <td>0.000</td>\n",
       "    </tr>\n",
       "    <tr>\n",
       "      <th>SCHP</th>\n",
       "      <td>73.702</td>\n",
       "    </tr>\n",
       "  </tbody>\n",
       "</table>\n",
       "</div>"
      ],
      "text/plain": [
       "      Profolio Weight in %\n",
       "MSFT                23.712\n",
       "GS                   2.586\n",
       "PG                   0.000\n",
       "SCHP                73.702"
      ]
     },
     "execution_count": 4,
     "metadata": {},
     "output_type": "execute_result"
    }
   ],
   "source": [
    "# Retrieve optimal value and optimal solution\n",
    "opt_val = mod.objval\n",
    "print(f\"The Optimal Minimum Risk is {opt_val:.5%}\\n\")\n",
    "\n",
    "# Solver Time \n",
    "print(f\"The Solver Time is {mod.Runtime} seconds\\n\")\n",
    "\n",
    "x_opt = pd.DataFrame([weight[i].x for i in range(stocks)])\n",
    "x_opt.columns =['Profolio Weight in %']\n",
    "x_opt.index = tick4\n",
    "x_opt.round(5)*100"
   ]
  },
  {
   "cell_type": "markdown",
   "metadata": {},
   "source": [
    "#### **Model 2**  \n",
    "Now suppose you can invest in all 390 stocks. Construct a minimum-variance portfolio with an expected monthly return of at least 0.5%.Write down the optimal risk and solver time**"
   ]
  },
  {
   "cell_type": "code",
   "execution_count": 5,
   "metadata": {},
   "outputs": [
    {
     "name": "stdout",
     "output_type": "stream",
     "text": [
      "Gurobi Optimizer version 9.5.0 build v9.5.0rc5 (mac64[x86])\n",
      "Thread count: 2 physical cores, 4 logical processors, using up to 4 threads\n",
      "Optimize a model with 392 rows, 390 columns and 1170 nonzeros\n",
      "Model fingerprint: 0xd3a53ccf\n",
      "Model has 76245 quadratic objective terms\n",
      "Coefficient statistics:\n",
      "  Matrix range     [1e-06, 1e+00]\n",
      "  Objective range  [0e+00, 0e+00]\n",
      "  QObjective range [2e-07, 8e-02]\n",
      "  Bounds range     [0e+00, 0e+00]\n",
      "  RHS range        [5e-03, 1e+00]\n",
      "Presolve removed 390 rows and 0 columns\n",
      "Presolve time: 0.02s\n",
      "Presolved: 2 rows, 390 columns, 780 nonzeros\n",
      "Presolved model has 76245 quadratic objective terms\n",
      "Ordering time: 0.00s\n",
      "\n",
      "Barrier statistics:\n",
      " Free vars  : 59\n",
      " AA' NZ     : 1.830e+03\n",
      " Factor NZ  : 1.891e+03\n",
      " Factor Ops : 7.753e+04 (less than 1 second per iteration)\n",
      " Threads    : 2\n",
      "\n",
      "                  Objective                Residual\n",
      "Iter       Primal          Dual         Primal    Dual     Compl     Time\n",
      "   0   2.89821559e-13 -2.89821559e-13  3.90e+05 3.22e-07  1.00e+06     0s\n",
      "   1   2.43039969e+03 -3.41875696e+03  1.04e+04 8.59e-09  2.67e+04     0s\n",
      "   2   3.54479277e-03 -1.01970099e+03  9.49e+00 7.84e-12  2.70e+01     0s\n",
      "   3   9.56987699e-04 -8.30932860e+02  9.49e-06 1.04e-17  2.13e+00     0s\n",
      "   4   9.56984024e-04 -8.32258791e-01  2.62e-11 2.23e-13  2.13e-03     0s\n",
      "   5   9.54080582e-04 -2.12856913e-03  6.97e-14 5.97e-16  7.88e-06     0s\n",
      "   6   5.14591256e-04 -5.41776815e-04  3.33e-15 3.22e-17  2.70e-06     0s\n",
      "   7   2.09259694e-04 -1.98530451e-04  1.33e-15 1.73e-18  1.04e-06     0s\n",
      "   8   8.76565669e-05 -2.50288443e-05  4.44e-16 8.67e-19  2.88e-07     0s\n",
      "   9   5.20861410e-05  1.71919030e-05  6.66e-16 8.67e-19  8.92e-08     0s\n",
      "  10   3.83492078e-05  2.50073953e-05  8.88e-16 4.34e-19  3.41e-08     0s\n",
      "  11   3.26253781e-05  2.77940249e-05  1.11e-15 4.34e-19  1.24e-08     0s\n",
      "  12   2.94790948e-05  2.87007171e-05  6.66e-16 4.34e-19  1.99e-09     0s\n",
      "  13   2.87991618e-05  2.87838933e-05  1.07e-14 2.71e-19  3.90e-11     0s\n",
      "  14   2.87853755e-05  2.87849519e-05  2.83e-14 4.34e-19  1.08e-12     0s\n",
      "\n",
      "Barrier solved model in 14 iterations and 0.08 seconds (0.01 work units)\n",
      "Optimal objective 2.87853755e-05\n",
      "\n"
     ]
    }
   ],
   "source": [
    "# Initialize Model\n",
    "mod2 = Model() \n",
    "\n",
    "# Define Data \n",
    "stocks = 390\n",
    "mim_return  = 0.005\n",
    "\n",
    "# Define decision variables\n",
    "weight2 = mod2.addVars(stocks)\n",
    "\n",
    "# Define Constraints\n",
    "return_contraint = mod2.addConstr(sum(weight2[i]*avg_return[i] for i in range(stocks)) >= mim_return)\n",
    "\n",
    "Weights_add_up_to_1_contraint = mod2.addConstr(sum(weight2[i] for i in range(stocks)) == 1)\n",
    "\n",
    "for i in range(stocks):\n",
    "    Non_negativity_contraint = mod2.addConstr(weight2[i] >= 0)\n",
    "    \n",
    "# Create the objective function, and set it to be minimized.\n",
    "mod2.setObjective(sum(weight2[i] * weight2[j] * C[i,j] for i in range(stocks) for j in range(stocks)), GRB.MINIMIZE)\n",
    "mod2.update()\n",
    "mod2.optimize()"
   ]
  },
  {
   "cell_type": "code",
   "execution_count": 6,
   "metadata": {},
   "outputs": [
    {
     "name": "stdout",
     "output_type": "stream",
     "text": [
      "The Optimal Minimum Risk is 0.00288%\n",
      "\n",
      "The Solver Time is 0.08627510070800781 seconds\n",
      "\n"
     ]
    },
    {
     "data": {
      "text/html": [
       "<div>\n",
       "<style scoped>\n",
       "    .dataframe tbody tr th:only-of-type {\n",
       "        vertical-align: middle;\n",
       "    }\n",
       "\n",
       "    .dataframe tbody tr th {\n",
       "        vertical-align: top;\n",
       "    }\n",
       "\n",
       "    .dataframe thead th {\n",
       "        text-align: right;\n",
       "    }\n",
       "</style>\n",
       "<table border=\"1\" class=\"dataframe\">\n",
       "  <thead>\n",
       "    <tr style=\"text-align: right;\">\n",
       "      <th></th>\n",
       "      <th>Profolio Weight in %</th>\n",
       "    </tr>\n",
       "  </thead>\n",
       "  <tbody>\n",
       "    <tr>\n",
       "      <th>MMM</th>\n",
       "      <td>0.000</td>\n",
       "    </tr>\n",
       "    <tr>\n",
       "      <th>ABT</th>\n",
       "      <td>0.000</td>\n",
       "    </tr>\n",
       "    <tr>\n",
       "      <th>ABBV</th>\n",
       "      <td>1.136</td>\n",
       "    </tr>\n",
       "    <tr>\n",
       "      <th>ABMD</th>\n",
       "      <td>0.666</td>\n",
       "    </tr>\n",
       "    <tr>\n",
       "      <th>ACN</th>\n",
       "      <td>0.000</td>\n",
       "    </tr>\n",
       "    <tr>\n",
       "      <th>...</th>\n",
       "      <td>...</td>\n",
       "    </tr>\n",
       "    <tr>\n",
       "      <th>RTN</th>\n",
       "      <td>0.000</td>\n",
       "    </tr>\n",
       "    <tr>\n",
       "      <th>O</th>\n",
       "      <td>0.000</td>\n",
       "    </tr>\n",
       "    <tr>\n",
       "      <th>REG</th>\n",
       "      <td>0.000</td>\n",
       "    </tr>\n",
       "    <tr>\n",
       "      <th>SCHP</th>\n",
       "      <td>0.000</td>\n",
       "    </tr>\n",
       "    <tr>\n",
       "      <th>BND</th>\n",
       "      <td>68.052</td>\n",
       "    </tr>\n",
       "  </tbody>\n",
       "</table>\n",
       "<p>390 rows × 1 columns</p>\n",
       "</div>"
      ],
      "text/plain": [
       "      Profolio Weight in %\n",
       "MMM                  0.000\n",
       "ABT                  0.000\n",
       "ABBV                 1.136\n",
       "ABMD                 0.666\n",
       "ACN                  0.000\n",
       "...                    ...\n",
       "RTN                  0.000\n",
       "O                    0.000\n",
       "REG                  0.000\n",
       "SCHP                 0.000\n",
       "BND                 68.052\n",
       "\n",
       "[390 rows x 1 columns]"
      ]
     },
     "execution_count": 6,
     "metadata": {},
     "output_type": "execute_result"
    }
   ],
   "source": [
    "# Retrieve optimal value and optimal solution\n",
    "opt_val2 = mod2.objval\n",
    "print(f\"The Optimal Minimum Risk is {opt_val2:.5%}\\n\")\n",
    "\n",
    "# Solver Time \n",
    "print(f\"The Solver Time is {mod2.Runtime} seconds\\n\")\n",
    "\n",
    "# Profolio Weight in Percentage by Stock\n",
    "x_opt2 = pd.DataFrame([weight2[i].x for i in range(stocks)])\n",
    "x_opt2.columns =['Profolio Weight in %']\n",
    "x_opt2.index = stock_ticker\n",
    "x_opt2.round(5)*100"
   ]
  },
  {
   "cell_type": "markdown",
   "metadata": {},
   "source": [
    "#### **Model 3** \n",
    "In practice, there are transaction fees associated with buying stocks. One way of keeping transaction fees low while still attaining desirable performance is to limit the total number of stocks that are purchased (i.e. limit the number of stocks that have a strictly positive weight). Construct a minimum-variance portfolio that selects at most 4 of the 390 stocks, and has an expected monthly return of at least 0.5%. (Note: By introducing binary variables into a quadratic program, we obtain a quadratic integer program. Fortunately, this particular quadratic integer program can be solved by Gurobi.)Report the optimal risk, solver time, and the ticker and weight on each of the four stocks selected by the model."
   ]
  },
  {
   "cell_type": "code",
   "execution_count": 7,
   "metadata": {
    "tags": []
   },
   "outputs": [
    {
     "name": "stdout",
     "output_type": "stream",
     "text": [
      "Gurobi Optimizer version 9.5.0 build v9.5.0rc5 (mac64[x86])\n",
      "Thread count: 2 physical cores, 4 logical processors, using up to 4 threads\n",
      "Optimize a model with 783 rows, 780 columns and 2340 nonzeros\n",
      "Model fingerprint: 0xe4bbc2cf\n",
      "Model has 76245 quadratic objective terms\n",
      "Variable types: 390 continuous, 390 integer (390 binary)\n",
      "Coefficient statistics:\n",
      "  Matrix range     [1e-06, 1e+00]\n",
      "  Objective range  [0e+00, 0e+00]\n",
      "  QObjective range [2e-07, 8e-02]\n",
      "  Bounds range     [1e+00, 1e+00]\n",
      "  RHS range        [5e-03, 4e+00]\n",
      "Found heuristic solution: objective 0.0136011\n",
      "Presolve removed 390 rows and 0 columns\n",
      "Presolve time: 0.02s\n",
      "Presolved: 393 rows, 780 columns, 1950 nonzeros\n",
      "Presolved model has 76245 quadratic objective terms\n",
      "Variable types: 390 continuous, 390 integer (390 binary)\n",
      "\n",
      "Root relaxation: objective 2.878501e-05, 129 iterations, 0.01 seconds (0.01 work units)\n",
      "\n",
      "    Nodes    |    Current Node    |     Objective Bounds      |     Work\n",
      " Expl Unexpl |  Obj  Depth IntInf | Incumbent    BestBd   Gap | It/Node Time\n",
      "\n",
      "     0     0    0.00003    0   21    0.01360    0.00003   100%     -    0s\n",
      "H    0     0                       0.0001663    0.00003  82.7%     -    0s\n",
      "     0     0    0.00003    0   21    0.00017    0.00003  82.7%     -    0s\n",
      "H    0     0                       0.0000723    0.00003  60.2%     -    0s\n",
      "     0     0    0.00003    0   21    0.00007    0.00003  60.2%     -    0s\n",
      "     0     0    0.00003    0   21    0.00007    0.00003  60.2%     -    0s\n",
      "     0     2    0.00003    0   21    0.00007    0.00003  60.2%     -    0s\n",
      "H  326   154                       0.0000715    0.00003  58.6%  81.8    1s\n",
      "H  327   137                       0.0000676    0.00003  56.2%  81.7    1s\n",
      "H 1447   509                       0.0000675    0.00003  52.1%  56.2    2s\n",
      "  2635   774     cutoff  104         0.00007    0.00003  51.2%  50.8    5s\n",
      "  7233  3344    0.00006   22   23    0.00007    0.00004  38.8%  40.4   10s\n",
      " 12921  6218     cutoff   28         0.00007    0.00005  31.2%  35.6   15s\n",
      " 17961  7871     cutoff   26         0.00007    0.00005  25.0%  34.2   20s\n",
      " 20830  8458    0.00006   45   27    0.00007    0.00005  20.6%  35.3   26s\n",
      " 22262  8434     cutoff   29         0.00007    0.00006  18.5%  39.0   30s\n",
      " 24315  8310    0.00007   44   16    0.00007    0.00006  16.4%  43.0   36s\n",
      " 25757  7911     cutoff   51         0.00007    0.00006  14.6%  46.1   40s\n",
      " 27262  7408     cutoff   33         0.00007    0.00006  12.6%  48.8   45s\n",
      " 29052  6975    0.00006   37   24    0.00007    0.00006  11.0%  50.7   50s\n",
      " 30817  6292    0.00006   64   17    0.00007    0.00006  9.52%  52.0   55s\n",
      " 33034  5148     cutoff   56         0.00007    0.00006  7.64%  53.7   61s\n",
      " 34948  4231     cutoff   44         0.00007    0.00006  6.16%  54.9   66s\n",
      " 37015  2989     cutoff   62         0.00007    0.00006  4.55%  55.1   70s\n",
      " 40061   522     cutoff   41         0.00007    0.00007  2.11%  54.2   75s\n",
      "\n",
      "Cutting planes:\n",
      "  MIR: 18\n",
      "  Flow cover: 11\n",
      "  Relax-and-lift: 1\n",
      "\n",
      "Explored 41316 nodes (2208714 simplex iterations) in 76.39 seconds (106.36 work units)\n",
      "Thread count was 4 (of 4 available processors)\n",
      "\n",
      "Solution count 6: 6.75347e-05 6.75857e-05 7.1543e-05 ... 0.0136011\n",
      "\n",
      "Optimal solution found (tolerance 1.00e-04)\n",
      "Best objective 6.753470760728e-05, best bound 6.753470760728e-05, gap 0.0000%\n"
     ]
    }
   ],
   "source": [
    "# Initialize Model\n",
    "mod3 = Model() \n",
    "\n",
    "# Define Data \n",
    "stocks = 390\n",
    "mim_return  = 0.005\n",
    "\n",
    "# Define decision variables\n",
    "weight3 = mod3.addVars(stocks)\n",
    "selection3 = mod3.addVars(stocks, vtype = GRB.BINARY)\n",
    "\n",
    "\n",
    "# Define Constraints\n",
    "return_constraint = mod3.addConstr(sum(weight3[i]*avg_return[i] for i in range(stocks)) >= mim_return)\n",
    "\n",
    "Weights_add_up_to_1_constraint = mod3.addConstr(sum(weight3[i] for i in range(stocks)) == 1)\n",
    "\n",
    "for i in range(stocks):\n",
    "    Non_negativity_constraint = mod3.addConstr(weight3[i] >= 0)\n",
    "\n",
    "selection_at_most_4_constrait = mod3.addConstr(sum(selection3[i] for i in range(stocks)) <= 4) \n",
    "\n",
    "for i in range(stocks):\n",
    "    select_when_weight_greater_than_zero_constriant = mod3.addConstr(selection3[i] >= weight3[i]) \n",
    "    \n",
    "# Create the objective function, and set it to be minimized.\n",
    "mod3.setObjective(sum(weight3[i] * weight3[j] * C[i,j] for i in range(stocks) for j in range(stocks)), GRB.MINIMIZE)\n",
    "mod3.update()\n",
    "mod3.optimize()"
   ]
  },
  {
   "cell_type": "code",
   "execution_count": 8,
   "metadata": {},
   "outputs": [
    {
     "name": "stdout",
     "output_type": "stream",
     "text": [
      "The Optimal Minimum Risk is 0.00675%\n",
      "\n",
      "The Solver Time is 76.39827108383179 seconds\n",
      "\n"
     ]
    },
    {
     "data": {
      "text/html": [
       "<div>\n",
       "<style scoped>\n",
       "    .dataframe tbody tr th:only-of-type {\n",
       "        vertical-align: middle;\n",
       "    }\n",
       "\n",
       "    .dataframe tbody tr th {\n",
       "        vertical-align: top;\n",
       "    }\n",
       "\n",
       "    .dataframe thead th {\n",
       "        text-align: right;\n",
       "    }\n",
       "</style>\n",
       "<table border=\"1\" class=\"dataframe\">\n",
       "  <thead>\n",
       "    <tr style=\"text-align: right;\">\n",
       "      <th></th>\n",
       "      <th>Profolio Weight in %</th>\n",
       "    </tr>\n",
       "  </thead>\n",
       "  <tbody>\n",
       "    <tr>\n",
       "      <th>CME</th>\n",
       "      <td>12.641</td>\n",
       "    </tr>\n",
       "    <tr>\n",
       "      <th>LLY</th>\n",
       "      <td>7.548</td>\n",
       "    </tr>\n",
       "    <tr>\n",
       "      <th>NVDA</th>\n",
       "      <td>4.375</td>\n",
       "    </tr>\n",
       "    <tr>\n",
       "      <th>BND</th>\n",
       "      <td>75.436</td>\n",
       "    </tr>\n",
       "  </tbody>\n",
       "</table>\n",
       "</div>"
      ],
      "text/plain": [
       "      Profolio Weight in %\n",
       "CME                 12.641\n",
       "LLY                  7.548\n",
       "NVDA                 4.375\n",
       "BND                 75.436"
      ]
     },
     "execution_count": 8,
     "metadata": {},
     "output_type": "execute_result"
    }
   ],
   "source": [
    "# Retrieve optimal value and optimal solution\n",
    "opt_val3 = mod3.objval\n",
    "print(f\"The Optimal Minimum Risk is {opt_val3:.5%}\\n\")\n",
    "\n",
    "# Solver Time \n",
    "print(f\"The Solver Time is {mod3.Runtime} seconds\\n\")\n",
    "\n",
    "# Profolio Weight in Percentage by Stock\n",
    "x_opt3 = pd.DataFrame([weight3[i].x for i in range(stocks)])\n",
    "x_opt3.columns =['Profolio Weight in %']\n",
    "x_opt3.index = stock_ticker\n",
    "df = x_opt3.round(5)*100 \n",
    "df3 = df['Profolio Weight in %'] > 0 \n",
    "df[df3]"
   ]
  },
  {
   "cell_type": "markdown",
   "metadata": {},
   "source": [
    "## 2. Use your solution to Question 1 above to answer the following questions:"
   ]
  },
  {
   "cell_type": "markdown",
   "metadata": {},
   "source": [
    "a) Is the optimal risk in Model 1 higher or lower than Model 2? Explain why in 1-2 sentences."
   ]
  },
  {
   "cell_type": "markdown",
   "metadata": {},
   "source": [
    "The optimal risk in Model 1 is higher than Model 2 beacuse Model 1 can only select 4 specified stocks and it ,thus,lacks portfolio diversification."
   ]
  },
  {
   "cell_type": "markdown",
   "metadata": {},
   "source": [
    "b) Is the optimal risk in Model 2 higher or lower than Model 3? Explain why in 1-2 sentences"
   ]
  },
  {
   "cell_type": "markdown",
   "metadata": {},
   "source": [
    "The optimal risk in Model 2 is lower than Model 3 becuase Model 3 can only select up to 4 stocks given the question instruction, and that limits the profolio capability to diversify its components. "
   ]
  },
  {
   "cell_type": "markdown",
   "metadata": {},
   "source": [
    "## 3. In some cases, we may want to get an approximate solution quickly by terminating the branch- and-bound algorithm before it finds an optimal solution. There are two ways to terminate Gurobi early: (a) by setting a maximum time limit, and (b) by setting a maximum acceptable optimality gap (the tolerance). Use Model 3 to answer the following two questions. For each part, also include your Gurobi output.\n"
   ]
  },
  {
   "cell_type": "markdown",
   "metadata": {},
   "source": [
    "a) Set Gurobi to terminate after 30 seconds by including XYZ.Params.TimeLimit = 30.0 in your code for Model 3, where ’XYZ’ is the name of your model. How does the objective function value at termination compare the optimal value obtained in question 1c)?"
   ]
  },
  {
   "cell_type": "code",
   "execution_count": 9,
   "metadata": {},
   "outputs": [
    {
     "name": "stdout",
     "output_type": "stream",
     "text": [
      "Set parameter TimeLimit to value 30\n",
      "Gurobi Optimizer version 9.5.0 build v9.5.0rc5 (mac64[x86])\n",
      "Thread count: 2 physical cores, 4 logical processors, using up to 4 threads\n",
      "Optimize a model with 783 rows, 780 columns and 2340 nonzeros\n",
      "Model fingerprint: 0xe4bbc2cf\n",
      "Model has 76245 quadratic objective terms\n",
      "Variable types: 390 continuous, 390 integer (390 binary)\n",
      "Coefficient statistics:\n",
      "  Matrix range     [1e-06, 1e+00]\n",
      "  Objective range  [0e+00, 0e+00]\n",
      "  QObjective range [2e-07, 8e-02]\n",
      "  Bounds range     [1e+00, 1e+00]\n",
      "  RHS range        [5e-03, 4e+00]\n",
      "Found heuristic solution: objective 0.0136011\n",
      "Presolve removed 390 rows and 0 columns\n",
      "Presolve time: 0.02s\n",
      "Presolved: 393 rows, 780 columns, 1950 nonzeros\n",
      "Presolved model has 76245 quadratic objective terms\n",
      "Variable types: 390 continuous, 390 integer (390 binary)\n",
      "\n",
      "Root relaxation: objective 2.878501e-05, 129 iterations, 0.01 seconds (0.01 work units)\n",
      "\n",
      "    Nodes    |    Current Node    |     Objective Bounds      |     Work\n",
      " Expl Unexpl |  Obj  Depth IntInf | Incumbent    BestBd   Gap | It/Node Time\n",
      "\n",
      "     0     0    0.00003    0   21    0.01360    0.00003   100%     -    0s\n",
      "H    0     0                       0.0001663    0.00003  82.7%     -    0s\n",
      "     0     0    0.00003    0   21    0.00017    0.00003  82.7%     -    0s\n",
      "H    0     0                       0.0000723    0.00003  60.2%     -    0s\n",
      "     0     0    0.00003    0   21    0.00007    0.00003  60.2%     -    0s\n",
      "     0     0    0.00003    0   21    0.00007    0.00003  60.2%     -    0s\n",
      "     0     2    0.00003    0   21    0.00007    0.00003  60.2%     -    0s\n",
      "H  326   154                       0.0000715    0.00003  58.6%  81.8    1s\n",
      "H  327   137                       0.0000676    0.00003  56.2%  81.7    1s\n",
      "H 1447   509                       0.0000675    0.00003  52.1%  56.2    3s\n",
      "  1814   683     cutoff   16         0.00007    0.00003  52.1%  47.9    5s\n",
      "  4521  1663    0.00005   39   24    0.00007    0.00004  43.0%  44.4   10s\n",
      "  8431  4058 infeasible   42         0.00007    0.00004  37.2%  39.4   15s\n",
      " 13255  6438    0.00006   29   19    0.00007    0.00005  31.0%  35.7   20s\n",
      " 17668  7796     cutoff   47         0.00007    0.00005  25.4%  34.1   25s\n",
      "\n",
      "Explored 20830 nodes (734819 simplex iterations) in 30.02 seconds (36.93 work units)\n",
      "Thread count was 4 (of 4 available processors)\n",
      "\n",
      "Solution count 6: 6.75347e-05 6.75857e-05 7.1543e-05 ... 0.0136011\n",
      "\n",
      "Time limit reached\n",
      "Best objective 6.753470760728e-05, best bound 5.357341288124e-05, gap 20.6728%\n"
     ]
    }
   ],
   "source": [
    "# Initialize Model\n",
    "mod3 = Model() \n",
    "\n",
    "# Define Data \n",
    "stocks = 390\n",
    "mim_return  = 0.005\n",
    "\n",
    "# Define decision variables\n",
    "weight3 = mod3.addVars(stocks)\n",
    "selection3 = mod3.addVars(stocks, vtype = GRB.BINARY)\n",
    "\n",
    "\n",
    "# Define Constraints\n",
    "return_constraint = mod3.addConstr(sum(weight3[i]*avg_return[i] for i in range(stocks)) >= mim_return)\n",
    "\n",
    "Weights_add_up_to_1_constraint = mod3.addConstr(sum(weight3[i] for i in range(stocks)) == 1)\n",
    "\n",
    "for i in range(stocks):\n",
    "    Non_negativity_constraint = mod3.addConstr(weight3[i] >= 0)\n",
    "\n",
    "selection_at_most_4_constrait = mod3.addConstr(sum(selection3[i] for i in range(stocks)) <= 4) \n",
    "\n",
    "for i in range(stocks):\n",
    "    select_when_weight_greater_than_zero_constriant = mod3.addConstr(selection3[i] >= weight3[i]) \n",
    "\n",
    "# Set Gurobi to terminate after 30 seconds    \n",
    "mod3.Params.TimeLimit = 30.0\n",
    "    \n",
    "# Create the objective function, and set it to be minimized.\n",
    "mod3.setObjective(sum(weight3[i] * weight3[j] * C[i,j] for i in range(stocks) for j in range(stocks)), GRB.MINIMIZE)\n",
    "mod3.update()\n",
    "mod3.optimize()"
   ]
  },
  {
   "cell_type": "code",
   "execution_count": 10,
   "metadata": {},
   "outputs": [
    {
     "name": "stdout",
     "output_type": "stream",
     "text": [
      "The Optimal Minimum Risk is 0.00675%\n",
      "\n"
     ]
    }
   ],
   "source": [
    "# Retrieve optimal value and optimal solution\n",
    "opt_val3 = mod3.objval\n",
    "print(f\"The Optimal Minimum Risk is {opt_val3:.5%}\\n\")"
   ]
  },
  {
   "cell_type": "markdown",
   "metadata": {},
   "source": [
    "The objective function value at termination is the same as the optimal value obtained in question 1c)"
   ]
  },
  {
   "cell_type": "markdown",
   "metadata": {},
   "source": [
    "b) Set Gurobi to terminate after reaching a gap of 10% by including XYZ.Params.MIPGap = 0.1 in your code for Model 3, where ’XYZ’ is the name of your model. (Note: The default gap in Gurobi is 0.0001.) How does the solver time compare with the solution time obtained in question 1c)?"
   ]
  },
  {
   "cell_type": "code",
   "execution_count": 11,
   "metadata": {},
   "outputs": [
    {
     "name": "stdout",
     "output_type": "stream",
     "text": [
      "Set parameter MIPGap to value 0.1\n",
      "Gurobi Optimizer version 9.5.0 build v9.5.0rc5 (mac64[x86])\n",
      "Thread count: 2 physical cores, 4 logical processors, using up to 4 threads\n",
      "Optimize a model with 783 rows, 780 columns and 2340 nonzeros\n",
      "Model fingerprint: 0xe4bbc2cf\n",
      "Model has 76245 quadratic objective terms\n",
      "Variable types: 390 continuous, 390 integer (390 binary)\n",
      "Coefficient statistics:\n",
      "  Matrix range     [1e-06, 1e+00]\n",
      "  Objective range  [0e+00, 0e+00]\n",
      "  QObjective range [2e-07, 8e-02]\n",
      "  Bounds range     [1e+00, 1e+00]\n",
      "  RHS range        [5e-03, 4e+00]\n",
      "Found heuristic solution: objective 0.0136011\n",
      "Presolve removed 390 rows and 0 columns\n",
      "Presolve time: 0.02s\n",
      "Presolved: 393 rows, 780 columns, 1950 nonzeros\n",
      "Presolved model has 76245 quadratic objective terms\n",
      "Variable types: 390 continuous, 390 integer (390 binary)\n",
      "\n",
      "Root relaxation: objective 2.878501e-05, 129 iterations, 0.01 seconds (0.01 work units)\n",
      "\n",
      "    Nodes    |    Current Node    |     Objective Bounds      |     Work\n",
      " Expl Unexpl |  Obj  Depth IntInf | Incumbent    BestBd   Gap | It/Node Time\n",
      "\n",
      "     0     0    0.00003    0   21    0.01360    0.00003   100%     -    0s\n",
      "H    0     0                       0.0001663    0.00003  82.7%     -    0s\n",
      "     0     0    0.00003    0   21    0.00017    0.00003  82.7%     -    0s\n",
      "H    0     0                       0.0000723    0.00003  60.2%     -    0s\n",
      "     0     0    0.00003    0   21    0.00007    0.00003  60.2%     -    0s\n",
      "     0     0    0.00003    0   21    0.00007    0.00003  60.2%     -    0s\n",
      "     0     2    0.00003    0   21    0.00007    0.00003  60.2%     -    0s\n",
      "H  326   154                       0.0000715    0.00003  58.6%  81.8    1s\n",
      "H  327   137                       0.0000676    0.00003  56.2%  81.7    1s\n",
      "H 1447   509                       0.0000675    0.00003  52.1%  56.2    4s\n",
      "  1751   684    0.00006   46   20    0.00007    0.00003  52.1%  48.7    5s\n",
      "  4832  1879    0.00006   34   26    0.00007    0.00004  43.0%  44.0   10s\n",
      "  8708  4280    0.00006   27   19    0.00007    0.00004  36.7%  39.2   15s\n",
      " 13255  6438    0.00006   29   19    0.00007    0.00005  31.0%  35.7   20s\n",
      " 17668  7796     cutoff   47         0.00007    0.00005  25.4%  34.1   25s\n",
      " 20830  8458    0.00006   45   27    0.00007    0.00005  20.6%  35.3   33s\n",
      " 21338  8392    0.00007   35   16    0.00007    0.00005  20.3%  36.3   35s\n",
      " 22751  8425    0.00006   28   24    0.00007    0.00006  18.1%  39.7   40s\n",
      " 24315  8310    0.00007   44   16    0.00007    0.00006  16.4%  43.0   45s\n",
      " 25757  7911     cutoff   51         0.00007    0.00006  14.6%  46.1   50s\n",
      " 27262  7408     cutoff   33         0.00007    0.00006  12.6%  48.8   56s\n",
      " 28669  7079     cutoff   45         0.00007    0.00006  11.3%  50.3   60s\n",
      "\n",
      "Cutting planes:\n",
      "  MIR: 18\n",
      "  Flow cover: 9\n",
      "  Relax-and-lift: 1\n",
      "\n",
      "Explored 30357 nodes (1573035 simplex iterations) in 64.69 seconds (77.82 work units)\n",
      "Thread count was 4 (of 4 available processors)\n",
      "\n",
      "Solution count 6: 6.75347e-05 6.75857e-05 7.1543e-05 ... 0.0136011\n",
      "\n",
      "Optimal solution found (tolerance 1.00e-01)\n",
      "Best objective 6.753470760728e-05, best bound 6.084495240733e-05, gap 9.9057%\n"
     ]
    }
   ],
   "source": [
    "# Initialize Model\n",
    "mod3 = Model() \n",
    "\n",
    "# Define Data \n",
    "stocks = 390\n",
    "mim_return  = 0.005\n",
    "\n",
    "# Define decision variables\n",
    "weight3 = mod3.addVars(stocks)\n",
    "selection3 = mod3.addVars(stocks, vtype = GRB.BINARY)\n",
    "\n",
    "\n",
    "# Define Constraints\n",
    "return_constraint = mod3.addConstr(sum(weight3[i]*avg_return[i] for i in range(stocks)) >= mim_return)\n",
    "\n",
    "Weights_add_up_to_1_constraint = mod3.addConstr(sum(weight3[i] for i in range(stocks)) == 1)\n",
    "\n",
    "for i in range(stocks):\n",
    "    Non_negativity_constraint = mod3.addConstr(weight3[i] >= 0)\n",
    "\n",
    "selection_at_most_4_constrait = mod3.addConstr(sum(selection3[i] for i in range(stocks)) <= 4) \n",
    "\n",
    "for i in range(stocks):\n",
    "    select_when_weight_greater_than_zero_constriant = mod3.addConstr(selection3[i] >= weight3[i]) \n",
    "\n",
    "# Set Gurobi to terminate after reaching a gap of 10%s    \n",
    "mod3.Params.MIPGap = 0.1\n",
    "    \n",
    "# Create the objective function, and set it to be minimized.\n",
    "mod3.setObjective(sum(weight3[i] * weight3[j] * C[i,j] for i in range(stocks) for j in range(stocks)), GRB.MINIMIZE)\n",
    "mod3.update()\n",
    "mod3.optimize()"
   ]
  },
  {
   "cell_type": "code",
   "execution_count": 12,
   "metadata": {},
   "outputs": [
    {
     "name": "stdout",
     "output_type": "stream",
     "text": [
      "The Solver Time is 64.6978108882904 seconds\n",
      "\n"
     ]
    }
   ],
   "source": [
    "# Solver Time \n",
    "print(f\"The Solver Time is {mod3.Runtime} seconds\\n\")"
   ]
  },
  {
   "cell_type": "markdown",
   "metadata": {},
   "source": [
    "The solver time is lower than the solution time obtained in question 1c"
   ]
  },
  {
   "cell_type": "code",
   "execution_count": null,
   "metadata": {},
   "outputs": [],
   "source": []
  }
 ],
 "metadata": {
  "kernelspec": {
   "display_name": "Python 3 (ipykernel)",
   "language": "python",
   "name": "python3"
  },
  "language_info": {
   "codemirror_mode": {
    "name": "ipython",
    "version": 3
   },
   "file_extension": ".py",
   "mimetype": "text/x-python",
   "name": "python",
   "nbconvert_exporter": "python",
   "pygments_lexer": "ipython3",
   "version": "3.9.7"
  }
 },
 "nbformat": 4,
 "nbformat_minor": 4
}
